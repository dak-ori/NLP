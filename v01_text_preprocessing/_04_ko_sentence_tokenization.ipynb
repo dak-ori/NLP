{
 "cells": [
  {
   "cell_type": "markdown",
   "id": "77135a4a",
   "metadata": {},
   "source": [
    "## 한국어는 '조사' 라는게 존재\n",
    "    - 조사가 붙어 다른 단어로 인식이 되는 경우가 있기에 조사는 분리해야함\n",
    "    - 한국어 토큰화는 \"형태소\" 라는 개념을 반드시 이해\n",
    "        - 자립 형태소 : 접사, 조사, 어미와 상관없이 자립하여 사용할 수 있는 형태소 => 그 자체로 단어가 됨.\n",
    "        - 의존 형태소 : 다른 형태소와 결합하여 사용되는 형태소 => 접사, 어미, 조사, 어간을 말함.\n",
    "\n",
    "## 품사 태깅\n",
    "    - 표기는 같지만 품사에 따라 의미가 달라짐\n",
    "    - 못(명사): 목재를 고정하는 물건 / 못(부사): 동사를 할 수 없다는 의미\n",
    "    -> 단어 토큰화 과정에서 각 단어가 어떤품사로 쓰였는지를 구분, 이 작업을 품사 태깅이라고 함. "
   ]
  },
  {
   "cell_type": "code",
   "execution_count": 7,
   "id": "08413490",
   "metadata": {},
   "outputs": [
    {
     "name": "stderr",
     "output_type": "stream",
     "text": [
      "[nltk_data] Downloading package averaged_perceptron_tagger to\n",
      "[nltk_data]     C:\\Users\\korea\\AppData\\Roaming\\nltk_data...\n",
      "[nltk_data]   Package averaged_perceptron_tagger is already up-to-\n",
      "[nltk_data]       date!\n",
      "[nltk_data] Downloading package punkt to\n",
      "[nltk_data]     C:\\Users\\korea\\AppData\\Roaming\\nltk_data...\n",
      "[nltk_data]   Package punkt is already up-to-date!\n"
     ]
    },
    {
     "data": {
      "text/plain": [
       "True"
      ]
     },
     "execution_count": 7,
     "metadata": {},
     "output_type": "execute_result"
    }
   ],
   "source": [
    "import nltk\n",
    "nltk.download('averaged_perceptron_tagger')\n",
    "nltk.download('punkt')"
   ]
  },
  {
   "cell_type": "code",
   "execution_count": 1,
   "id": "ab2b3139",
   "metadata": {},
   "outputs": [],
   "source": [
    "from nltk.tokenize import word_tokenize\n",
    "from nltk.tag import pos_tag"
   ]
  },
  {
   "cell_type": "code",
   "execution_count": 2,
   "id": "621af45d",
   "metadata": {},
   "outputs": [],
   "source": [
    "text = \"I am actively looking for Ph.D. students. and you are a Ph.D. student.\"\n",
    "tokenized_sentence = word_tokenize(text)"
   ]
  },
  {
   "cell_type": "code",
   "execution_count": 3,
   "id": "e5684c6e",
   "metadata": {},
   "outputs": [
    {
     "name": "stdout",
     "output_type": "stream",
     "text": [
      "토큰화:  ['I', 'am', 'actively', 'looking', 'for', 'Ph.D.', 'students', '.', 'and', 'you', 'are', 'a', 'Ph.D.', 'student', '.']\n",
      "품사 태깅: [('I', 'PRP'), ('am', 'VBP'), ('actively', 'RB'), ('looking', 'VBG'), ('for', 'IN'), ('Ph.D.', 'NNP'), ('students', 'NNS'), ('.', '.'), ('and', 'CC'), ('you', 'PRP'), ('are', 'VBP'), ('a', 'DT'), ('Ph.D.', 'NNP'), ('student', 'NN'), ('.', '.')]\n"
     ]
    }
   ],
   "source": [
    "print('토큰화: ',tokenized_sentence)\n",
    "print('품사 태깅:',pos_tag(tokenized_sentence))"
   ]
  }
 ],
 "metadata": {
  "kernelspec": {
   "display_name": "NLP",
   "language": "python",
   "name": "python3"
  },
  "language_info": {
   "codemirror_mode": {
    "name": "ipython",
    "version": 3
   },
   "file_extension": ".py",
   "mimetype": "text/x-python",
   "name": "python",
   "nbconvert_exporter": "python",
   "pygments_lexer": "ipython3",
   "version": "3.10.18"
  }
 },
 "nbformat": 4,
 "nbformat_minor": 5
}
