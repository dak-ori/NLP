{
 "cells": [
  {
   "cell_type": "markdown",
   "id": "b1dfbe7c",
   "metadata": {},
   "source": [
    "# 토큰화\n",
    "    - 아포스트로피(')를 구두점으로 쓰는지, 아닌지 토큰화에서 고려해야함\n",
    "    - 구두점 및 특수 문자를 단순 제외해선 안됨\n",
    "        - 수치를 표현하는 콤마\n",
    "        - 날짜를 표현하는 슬래시\n",
    "        - 화폐를 표현하는 달러 등..\n"
   ]
  },
  {
   "cell_type": "code",
   "execution_count": 1,
   "id": "7cfc281f",
   "metadata": {},
   "outputs": [
    {
     "name": "stderr",
     "output_type": "stream",
     "text": [
      "[nltk_data] Downloading package punkt_tab to\n",
      "[nltk_data]     C:\\Users\\korea\\AppData\\Roaming\\nltk_data...\n",
      "[nltk_data]   Package punkt_tab is already up-to-date!\n"
     ]
    },
    {
     "data": {
      "text/plain": [
       "True"
      ]
     },
     "execution_count": 1,
     "metadata": {},
     "output_type": "execute_result"
    }
   ],
   "source": [
    "# 1. 학습 데이터 모델 설치\n",
    "import nltk\n",
    "nltk.download('punkt_tab')"
   ]
  },
  {
   "cell_type": "code",
   "execution_count": null,
   "id": "77783e31",
   "metadata": {},
   "outputs": [],
   "source": [
    "# 2. 라이브러리 호출\n",
    "from nltk.tokenize import word_tokenize\n",
    "from nltk.tokenize import WordPunctTokenizer"
   ]
  },
  {
   "cell_type": "code",
   "execution_count": 4,
   "id": "f6903bbd",
   "metadata": {},
   "outputs": [],
   "source": [
    "# 3. 문장 토큰화\n",
    "sentence = \"Don't be fooled by the dark sounding name, Mr.Jone's Orphanage is as cheery as cheery goes for a pastry shop\"\n",
    "first_token = word_tokenize(sentence)\n",
    "second_token = WordPunctTokenizer().tokenize(sentence)"
   ]
  },
  {
   "cell_type": "code",
   "execution_count": 6,
   "id": "9af1a0c4",
   "metadata": {},
   "outputs": [
    {
     "name": "stdout",
     "output_type": "stream",
     "text": [
      "['Do', \"n't\", 'be', 'fooled', 'by', 'the', 'dark', 'sounding', 'name', ',', 'Mr.Jone', \"'s\", 'Orphanage', 'is', 'as', 'cheery', 'as', 'cheery', 'goes', 'for', 'a', 'pastry', 'shop']\n",
      "['Don', \"'\", 't', 'be', 'fooled', 'by', 'the', 'dark', 'sounding', 'name', ',', 'Mr', '.', 'Jone', \"'\", 's', 'Orphanage', 'is', 'as', 'cheery', 'as', 'cheery', 'goes', 'for', 'a', 'pastry', 'shop']\n"
     ]
    }
   ],
   "source": [
    "# 4. 토큰화 된 문장 출력\n",
    "print(first_token)\n",
    "print(second_token)"
   ]
  }
 ],
 "metadata": {
  "kernelspec": {
   "display_name": "NLP",
   "language": "python",
   "name": "python3"
  },
  "language_info": {
   "codemirror_mode": {
    "name": "ipython",
    "version": 3
   },
   "file_extension": ".py",
   "mimetype": "text/x-python",
   "name": "python",
   "nbconvert_exporter": "python",
   "pygments_lexer": "ipython3",
   "version": "3.10.18"
  }
 },
 "nbformat": 4,
 "nbformat_minor": 5
}
